{
 "cells": [
  {
   "cell_type": "code",
   "execution_count": null,
   "metadata": {},
   "outputs": [],
   "source": [
    "import seaborn as sns\n",
    "import matplotlib.pyplot as plt\n",
    "\n",
    "# Calculate Spearman correlation matrix for the input data\n",
    "correlation_matrix = data.corr(method=\"spearman\")\n",
    "\n",
    "# Remove index and column names for better visual clarity in the plot\n",
    "correlation_matrix.index.name = None\n",
    "correlation_matrix.columns.name = None\n",
    "\n",
    "# Create a clustered heatmap using seaborn's clustermap\n",
    "# 'annot=True' adds the correlation values inside the heatmap cells\n",
    "# 'cmap=\"bwr\"' uses a blue-white-red color palette to represent correlations\n",
    "# 'vmin=-1, vmax=1' sets the color scale range between -1 and 1 (the Spearman correlation range)\n",
    "cluster_grid = sns.clustermap(data=correlation_matrix, annot=True, cmap=\"bwr\", \n",
    "                              annot_kws={\"size\": 9}, vmin=-1, vmax=1)\n",
    "\n",
    "# Save the resulting heatmap to a high-resolution PNG file (600 dpi)\n",
    "plt.savefig('path/file_name.png', dpi=600)\n",
    "\n",
    "# Display the heatmap\n",
    "plt.show()\n"
   ]
  }
 ],
 "metadata": {
  "language_info": {
   "name": "python"
  }
 },
 "nbformat": 4,
 "nbformat_minor": 2
}
