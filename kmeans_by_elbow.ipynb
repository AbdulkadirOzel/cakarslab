{
 "cells": [
  {
   "cell_type": "code",
   "execution_count": null,
   "metadata": {},
   "outputs": [],
   "source": [
    "from sklearn.decomposition import PCA\n",
    "from sklearn.cluster import KMeans\n",
    "import matplotlib.pyplot as plt\n",
    "\n",
    "# Function to determine the optimal number of clusters using the Elbow Method\n",
    "def elbow_method(data):\n",
    "    \"\"\"\n",
    "    This function applies the Elbow Method to find the optimal number of clusters (k) for K-Means clustering.\n",
    "    It computes the within-cluster sum of squares (WCSS) for different values of k, and plots the results.\n",
    "    \n",
    "    Parameters:\n",
    "    data : array-like or dataframe\n",
    "        The dataset to be clustered.\n",
    "        \n",
    "    The function will save the plot as 'elbow_method_for_groups.png' and display the plot for user inspection.\n",
    "    \"\"\"\n",
    "    \n",
    "    distortions = []  # List to store WCSS (inertia) values for each k\n",
    "    K = range(1, 11)  # Define the range of cluster numbers to evaluate (1 to 10)\n",
    "    \n",
    "    # Loop through different values of k and fit KMeans\n",
    "    for k in K:\n",
    "        kmeans = KMeans(n_clusters=k, random_state=42)  # Initialize KMeans with k clusters\n",
    "        kmeans.fit(data)  # Fit the model to the data\n",
    "        distortions.append(kmeans.inertia_)  # Append the WCSS (inertia) for the current k\n",
    "    \n",
    "    # Plotting the results\n",
    "    plt.figure(figsize=(10, 6))\n",
    "    plt.plot(K, distortions, 'bx-')  # Plot WCSS for each k\n",
    "    plt.xlabel('Number of Clusters')  # Label for the x-axis\n",
    "    plt.ylabel('WCSS')  # Label for the y-axis (WCSS)\n",
    "    plt.title('Elbow Method For Optimal k')  # Plot title\n",
    "    \n",
    "    # Save the plot as an image file\n",
    "    plt.savefig('elbow_method_for_groups.png')\n",
    "    \n",
    "    # Display the plot\n",
    "    plt.show()\n"
   ]
  }
 ],
 "metadata": {
  "language_info": {
   "name": "python"
  }
 },
 "nbformat": 4,
 "nbformat_minor": 2
}
